{
 "cells": [
  {
   "cell_type": "markdown",
   "metadata": {},
   "source": [
    "## Рубежный контроль №2\n",
    "\n",
    "### Выполнила: Мащенко Е.И., ИУ5-24М\n",
    "### Алгоритм SARSA\n",
    "\n",
    "Для проведения работы была выбрана среда обучения с подкреплением CliffWalking из библиотеки Gym.\n",
    "Проведем подбор гиперпараметров для алгоритма SARSA. Критерий оптимизации – суммарная награда. В класс SARSA_Agent добавлен метод sum_rewards, подсчитывающий итоговую суммарную награду."
   ]
  },
  {
   "cell_type": "code",
   "execution_count": 1,
   "metadata": {},
   "outputs": [
    {
     "name": "stdout",
     "output_type": "stream",
     "text": [
      "Requirement already satisfied: gymnasium in c:\\users\\user\\anaconda3\\lib\\site-packages (0.28.1)\n",
      "Requirement already satisfied: cloudpickle>=1.2.0 in c:\\users\\user\\anaconda3\\lib\\site-packages (from gymnasium) (1.6.0)\n",
      "Requirement already satisfied: jax-jumpy>=1.0.0 in c:\\users\\user\\anaconda3\\lib\\site-packages (from gymnasium) (1.0.0)\n",
      "Requirement already satisfied: typing-extensions>=4.3.0 in c:\\users\\user\\anaconda3\\lib\\site-packages (from gymnasium) (4.6.3)\n",
      "Requirement already satisfied: importlib-metadata>=4.8.0; python_version < \"3.10\" in c:\\users\\user\\anaconda3\\lib\\site-packages (from gymnasium) (6.6.0)\n",
      "Requirement already satisfied: numpy>=1.21.0 in c:\\users\\user\\anaconda3\\lib\\site-packages (from gymnasium) (1.24.3)\n",
      "Requirement already satisfied: farama-notifications>=0.0.1 in c:\\users\\user\\anaconda3\\lib\\site-packages (from gymnasium) (0.0.4)\n",
      "Requirement already satisfied: zipp>=0.5 in c:\\users\\user\\anaconda3\\lib\\site-packages (from importlib-metadata>=4.8.0; python_version < \"3.10\"->gymnasium) (3.4.0)\n"
     ]
    }
   ],
   "source": [
    "! pip install gymnasium"
   ]
  },
  {
   "cell_type": "code",
   "execution_count": 2,
   "metadata": {},
   "outputs": [],
   "source": [
    "import gymnasium as gym\n",
    "import numpy as np\n",
    "from pprint import pprint\n",
    "import matplotlib.pyplot as plt\n",
    "from tqdm import tqdm"
   ]
  },
  {
   "cell_type": "code",
   "execution_count": 3,
   "metadata": {},
   "outputs": [],
   "source": [
    "# ************************************ БАЗОВЫЙ АГЕНТ *****************************************\n",
    "\n",
    "class BasicAgent:\n",
    "    '''\n",
    "    Базовый агент, от которого наследуются стратегии обучения\n",
    "    '''\n",
    "\n",
    "    # Наименование алгоритма\n",
    "    ALGO_NAME = '---'\n",
    "\n",
    "    def __init__(self, env, eps=0.1):\n",
    "        # Среда\n",
    "        self.env = env\n",
    "        # Размерности Q-матрицы\n",
    "        self.nA = env.action_space.n\n",
    "        self.nS = env.observation_space.n\n",
    "        #и сама матрица\n",
    "        self.Q = np.zeros((self.nS, self.nA))\n",
    "        # Значения коэффициентов\n",
    "        # Порог выбора случайного действия\n",
    "        self.eps=eps\n",
    "        # Награды по эпизодам\n",
    "        self.episodes_reward = []\n",
    "\n",
    "\n",
    "    def print_q(self):\n",
    "        print('Вывод Q-матрицы для алгоритма ', self.ALGO_NAME)\n",
    "        print(self.Q)\n",
    "\n",
    "\n",
    "    def get_state(self, state):\n",
    "        '''\n",
    "        Возвращает правильное начальное состояние\n",
    "        '''\n",
    "        if type(state) is tuple:\n",
    "            # Если состояние вернулось с виде кортежа, то вернуть только номер состояния\n",
    "            return state[0]\n",
    "        else:\n",
    "            return state \n",
    "\n",
    "\n",
    "    def greedy(self, state):\n",
    "        '''\n",
    "        <<Жадное>> текущее действие\n",
    "        Возвращает действие, соответствующее максимальному Q-значению\n",
    "        для состояния state\n",
    "        '''\n",
    "        return np.argmax(self.Q[state])\n",
    "\n",
    "\n",
    "    def make_action(self, state):\n",
    "        '''\n",
    "        Выбор действия агентом\n",
    "        '''\n",
    "        if np.random.uniform(0,1) < self.eps:\n",
    "            \n",
    "            # Если вероятность меньше eps\n",
    "            # то выбирается случайное действие\n",
    "            return self.env.action_space.sample()\n",
    "        else:\n",
    "            # иначе действие, соответствующее максимальному Q-значению\n",
    "            return self.greedy(state)\n",
    "\n",
    "\n",
    "    def draw_episodes_reward(self):\n",
    "        # Построение графика наград по эпизодам\n",
    "        fig, ax = plt.subplots(figsize = (15,10))\n",
    "        y = self.episodes_reward\n",
    "        x = list(range(1, len(y)+1))\n",
    "        plt.plot(x, y, '-', linewidth=1, color='green')\n",
    "        plt.title('Награды по эпизодам')\n",
    "        plt.xlabel('Номер эпизода')\n",
    "        plt.ylabel('Награда')\n",
    "        plt.show()\n",
    "\n",
    "\n",
    "    def learn():\n",
    "        '''\n",
    "        Реализация алгоритма обучения\n",
    "        '''\n",
    "        pass\n"
   ]
  },
  {
   "cell_type": "code",
   "execution_count": 10,
   "metadata": {},
   "outputs": [],
   "source": [
    "# ************************************ SARSA *****************************************\n",
    "\n",
    "class SARSA_Agent(BasicAgent):\n",
    "    '''\n",
    "    Реализация алгоритма SARSA\n",
    "    '''\n",
    "    # Наименование алгоритма\n",
    "    ALGO_NAME = 'SARSA'\n",
    "\n",
    "\n",
    "    def __init__(self, env, eps=0.015, lr=0.1, gamma=0.97, num_episodes=20000):\n",
    "        # Вызов конструктора верхнего уровня\n",
    "        super().__init__(env, eps)\n",
    "        # Learning rate\n",
    "        self.lr=lr\n",
    "        # Коэффициент дисконтирования\n",
    "        self.gamma = gamma\n",
    "        # Количество эпизодов\n",
    "        self.num_episodes=num_episodes\n",
    "        # Постепенное уменьшение eps\n",
    "        self.eps_decay=0.00005\n",
    "        self.eps_threshold=0.01\n",
    "\n",
    "\n",
    "    def learn(self):\n",
    "        '''\n",
    "        Обучение на основе алгоритма SARSA\n",
    "        '''\n",
    "        self.episodes_reward = []\n",
    "        # Цикл по эпизодам\n",
    "        for ep in tqdm(list(range(self.num_episodes))):\n",
    "            # Начальное состояние среды\n",
    "            state = self.get_state(self.env.reset())\n",
    "            # Флаг штатного завершения эпизода\n",
    "            done = False\n",
    "            # Флаг нештатного завершения эпизода\n",
    "            truncated = False\n",
    "            # Суммарная награда по эпизоду\n",
    "            tot_rew = 0\n",
    "\n",
    "            # По мере заполнения Q-матрицы уменьшаем вероятность случайного выбора действия\n",
    "            if self.eps > self.eps_threshold:\n",
    "                self.eps -= self.eps_decay\n",
    "\n",
    "            # Выбор действия\n",
    "            action = self.make_action(state) \n",
    "\n",
    "            # Проигрывание одного эпизода до финального состояния\n",
    "            while not (done or truncated):\n",
    "                \n",
    "                # Выполняем шаг в среде\n",
    "                next_state, rew, done, truncated, _ = self.env.step(action)\n",
    "\n",
    "                # Выполняем следующее действие \n",
    "                next_action = self.make_action(next_state) \n",
    "                \n",
    "                # Правило обновления Q для SARSA\n",
    "                self.Q[state][action] = self.Q[state][action] + self.lr * \\\n",
    "                    (rew + self.gamma * self.Q[next_state][next_action] - self.Q[state][action])\n",
    "\n",
    "                # Следующее состояние считаем текущим\n",
    "                state = next_state\n",
    "                action = next_action\n",
    "                # Суммарная награда за эпизод\n",
    "                tot_rew += rew\n",
    "                if (done or truncated):\n",
    "                    self.episodes_reward.append(tot_rew)\n",
    "\n",
    "    def sum_rewards(self):\n",
    "        # Суммарная награда\n",
    "        sum_rewards = sum(self.episodes_reward)\n",
    "        print('Cуммарная награда SARSA: ', sum_rewards)"
   ]
  },
  {
   "cell_type": "code",
   "execution_count": 5,
   "metadata": {},
   "outputs": [
    {
     "name": "stdout",
     "output_type": "stream",
     "text": [
      "Requirement already satisfied: pygame in c:\\users\\user\\anaconda3\\lib\\site-packages (2.4.0)\n"
     ]
    }
   ],
   "source": [
    "!pip install pygame "
   ]
  },
  {
   "cell_type": "code",
   "execution_count": 6,
   "metadata": {},
   "outputs": [],
   "source": [
    "def play_agent(agent):\n",
    "    '''\n",
    "    Проигрывание сессии для обученного агента\n",
    "    '''\n",
    "    env2 = gym.make('CliffWalking-v0', render_mode='human') \n",
    "    state = env2.reset()[0]\n",
    "    done = False\n",
    "    while not done:\n",
    "        action = agent.greedy(state)\n",
    "        next_state, reward, terminated, truncated, _ = env2.step(action)\n",
    "        env2.render()\n",
    "        state = next_state\n",
    "        if terminated or truncated:\n",
    "            done = True\n"
   ]
  },
  {
   "cell_type": "code",
   "execution_count": 11,
   "metadata": {},
   "outputs": [
    {
     "name": "stderr",
     "output_type": "stream",
     "text": [
      "100%|██████████████████████████████████████████████████████████████████████████| 20000/20000 [00:07<00:00, 2522.84it/s]\n"
     ]
    },
    {
     "name": "stdout",
     "output_type": "stream",
     "text": [
      "Вывод Q-матрицы для алгоритма  SARSA\n",
      "[[ -11.37114039  -11.38682899  -11.37973562  -11.47439914]\n",
      " [ -10.8938849   -10.87695896  -10.88054056  -10.95669466]\n",
      " [ -10.22243111  -10.20507836  -10.20727266  -10.32338474]\n",
      " [  -9.61838289   -9.49948007   -9.50304533   -9.5389843 ]\n",
      " [  -8.85174604   -8.76727551   -8.76829295   -8.77571385]\n",
      " [  -8.07594673   -8.01065996   -8.01297096   -8.02861512]\n",
      " [  -7.39968158   -7.23037616   -7.23070208   -7.24091761]\n",
      " [  -6.46830146   -6.42428982   -6.42640238   -6.52794336]\n",
      " [  -5.69527288   -5.61392053   -5.60262978   -5.63375425]\n",
      " [  -4.87840289   -4.77175576   -4.73286883   -5.06325686]\n",
      " [  -3.96584709   -3.85976545   -4.04330622   -4.27353905]\n",
      " [  -3.10784432   -3.12907452   -2.93345942   -3.33107757]\n",
      " [ -11.87863363  -10.96374391  -12.41243662  -11.65504861]\n",
      " [ -11.50355161  -10.30392883  -11.61025787  -11.79399189]\n",
      " [ -10.84310518   -9.50696354  -10.9001192   -11.14332681]\n",
      " [ -10.1641814    -8.76827787  -10.16766751  -10.43712966]\n",
      " [  -9.46705441   -8.00952992   -9.53866555   -9.7040942 ]\n",
      " [  -8.74369478   -7.23085097   -8.84046675   -8.95264936]\n",
      " [  -7.97738577   -6.43014369   -7.97090661   -8.1955931 ]\n",
      " [  -7.19013674   -5.60243878   -7.18455025   -7.55355893]\n",
      " [  -6.40319064   -4.74195156   -6.4425819    -6.6784775 ]\n",
      " [  -5.56661291   -3.84683018   -5.5904865    -5.77411783]\n",
      " [  -4.71993341   -2.92158339   -3.69591892   -4.92504501]\n",
      " [  -3.83019202   -2.91537217   -1.97240052   -4.00831918]\n",
      " [ -11.6091298   -12.33628779  -13.09046293  -12.31229581]\n",
      " [ -10.98615067  -11.80904804  -51.5550698   -11.35629147]\n",
      " [ -10.2579602   -10.25994758  -28.77902596  -10.26723395]\n",
      " [  -9.67059191   -9.56745839  -20.18802405   -9.68722399]\n",
      " [  -8.83176792   -8.86186262  -20.01085252   -8.96194263]\n",
      " [  -8.1736161   -10.06263034  -10.10120059   -8.35236259]\n",
      " [  -7.24568781   -7.24271245  -36.9248574    -7.28113396]\n",
      " [  -6.46088689   -6.46799432  -10.07336503   -6.60063755]\n",
      " [  -5.63326073   -8.00960132  -28.25526818   -5.86327206]\n",
      " [  -4.74319784   -5.0333975   -37.72003677   -4.96718529]\n",
      " [  -2.24494564   -1.97002056  -44.74763761   -2.40952282]\n",
      " [  -3.16064771   -1.96827815   -1.           -2.89254594]\n",
      " [ -12.26500387 -111.5738944   -12.96908815  -12.96587784]\n",
      " [   0.            0.            0.            0.        ]\n",
      " [   0.            0.            0.            0.        ]\n",
      " [   0.            0.            0.            0.        ]\n",
      " [   0.            0.            0.            0.        ]\n",
      " [   0.            0.            0.            0.        ]\n",
      " [   0.            0.            0.            0.        ]\n",
      " [   0.            0.            0.            0.        ]\n",
      " [   0.            0.            0.            0.        ]\n",
      " [   0.            0.            0.            0.        ]\n",
      " [   0.            0.            0.            0.        ]\n",
      " [   0.            0.            0.            0.        ]]\n"
     ]
    },
    {
     "data": {
      "image/png": "[encoded data removed]",
      "text/plain": [
       "<Figure size 1080x720 with 1 Axes>"
      ]
     },
     "metadata": {
      "needs_background": "light"
     },
     "output_type": "display_data"
    },
    {
     "name": "stdout",
     "output_type": "stream",
     "text": [
      "Cуммарная награда SARSA:  -321703\n"
     ]
    }
   ],
   "source": [
    "env = gym.make('CliffWalking-v0')\n",
    "agent = SARSA_Agent(env)\n",
    "agent.learn()\n",
    "agent.print_q()\n",
    "agent.draw_episodes_reward()\n",
    "agent.sum_rewards()\n",
    "# play_agent(agent)"
   ]
  }
 ],
 "metadata": {
  "kernelspec": {
   "display_name": "Python 3",
   "language": "python",
   "name": "python3"
  },
  "language_info": {
   "codemirror_mode": {
    "name": "ipython",
    "version": 3
   },
   "file_extension": ".py",
   "mimetype": "text/x-python",
   "name": "python",
   "nbconvert_exporter": "python",
   "pygments_lexer": "ipython3",
   "version": "3.8.5"
  }
 },
 "nbformat": 4,
 "nbformat_minor": 4
}
